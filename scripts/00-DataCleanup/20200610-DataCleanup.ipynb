{
 "cells": [
  {
   "cell_type": "markdown",
   "metadata": {
    "toc": true
   },
   "source": [
    "<h1>Table of Contents<span class=\"tocSkip\"></span></h1>\n",
    "<div class=\"toc\"><ul class=\"toc-item\"><li><span><a href=\"#Imports\" data-toc-modified-id=\"Imports-1\"><span class=\"toc-item-num\">1&nbsp;&nbsp;</span>Imports</a></span></li><li><span><a href=\"#Clean-up-contents\" data-toc-modified-id=\"Clean-up-contents-2\"><span class=\"toc-item-num\">2&nbsp;&nbsp;</span>Clean up contents</a></span></li></ul></div>"
   ]
  },
  {
   "cell_type": "markdown",
   "metadata": {},
   "source": [
    "We have all the raw data, find a way to read in the data."
   ]
  },
  {
   "cell_type": "markdown",
   "metadata": {},
   "source": [
    "## Imports"
   ]
  },
  {
   "cell_type": "code",
   "execution_count": null,
   "metadata": {},
   "outputs": [],
   "source": [
    "import os\n",
    "import re"
   ]
  },
  {
   "cell_type": "markdown",
   "metadata": {},
   "source": [
    "## Clean up contents\n",
    "\n",
    "We want the contents cleaned up so that there's only one verse per line"
   ]
  },
  {
   "cell_type": "markdown",
   "metadata": {},
   "source": [
    "First we begin with removing all the unnecessary endlines, and removing all unnecessary whitespaces.<br>\n",
    "Cuz I'm dumb I'm just going to hardcode it to remove unnecessary whitespaces 3 times."
   ]
  },
  {
   "cell_type": "code",
   "execution_count": null,
   "metadata": {
    "scrolled": true
   },
   "outputs": [],
   "source": [
    "data_folder = '../../data/new_testament/'\n",
    "for file_name in os.listdir(data_folder):\n",
    "    \n",
    "    full_name = data_folder+file_name\n",
    "    \n",
    "    if file_name == \"00_List\":\n",
    "        os.rename(full_name,\n",
    "                  full_name + '.csv')\n",
    "        continue\n",
    "        \n",
    "    with open(full_name, mode='r') as file:\n",
    "        entire_file = file.read()\n",
    "\n",
    "    entire_file = entire_file.replace('\\n', ' ')\n",
    "    entire_file = entire_file.replace('  ', ' ')\n",
    "    entire_file = entire_file.replace('  ', ' ')\n",
    "    entire_file = entire_file.replace('  ', ' ')\n",
    "    if '  ' in entire_file:\n",
    "        print(\"More spaces! \" + file_name)\n",
    "    entire_file = 'verse|passage|text ' + entire_file\n",
    "    entire_file = \\\n",
    "        re.sub('\\ (?P<verse>\\d+):(?P<passage>\\d+)\\ ',\n",
    "               '\\n\\g<verse>|\\g<passage>|',\n",
    "               entire_file)\n",
    "\n",
    "    with open(full_name+'.csv', mode='w') as outfile:\n",
    "        outfile.write(entire_file)\n",
    "    os.remove(full_name)"
   ]
  }
 ],
 "metadata": {
  "kernelspec": {
   "display_name": "Python 3",
   "language": "python",
   "name": "python3"
  },
  "language_info": {
   "codemirror_mode": {
    "name": "ipython",
    "version": 3
   },
   "file_extension": ".py",
   "mimetype": "text/x-python",
   "name": "python",
   "nbconvert_exporter": "python",
   "pygments_lexer": "ipython3",
   "version": "3.7.7"
  },
  "toc": {
   "base_numbering": 1,
   "nav_menu": {},
   "number_sections": true,
   "sideBar": true,
   "skip_h1_title": true,
   "title_cell": "Table of Contents",
   "title_sidebar": "Contents",
   "toc_cell": true,
   "toc_position": {},
   "toc_section_display": true,
   "toc_window_display": false
  }
 },
 "nbformat": 4,
 "nbformat_minor": 4
}
